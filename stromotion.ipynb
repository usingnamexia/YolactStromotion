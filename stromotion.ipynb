{
 "cells": [
  {
   "cell_type": "code",
   "execution_count": 1,
   "metadata": {},
   "outputs": [
    {
     "name": "stdout",
     "output_type": "stream",
     "text": [
      "Loading model..."
     ]
    },
    {
     "name": "stderr",
     "output_type": "stream",
     "text": [
      "d:\\programs\\miniconda3\\envs\\reid\\lib\\site-packages\\torch\\jit\\_recursive.py:152: UserWarning: 'lat_layers' was found in ScriptModule constants,  but it is a non-constant submodule. Consider removing it.\n",
      "  \" but it is a non-constant {}. Consider removing it.\".format(name, hint))\n",
      "d:\\programs\\miniconda3\\envs\\reid\\lib\\site-packages\\torch\\jit\\_recursive.py:152: UserWarning: 'pred_layers' was found in ScriptModule constants,  but it is a non-constant submodule. Consider removing it.\n",
      "  \" but it is a non-constant {}. Consider removing it.\".format(name, hint))\n",
      "d:\\programs\\miniconda3\\envs\\reid\\lib\\site-packages\\torch\\jit\\_recursive.py:152: UserWarning: 'downsample_layers' was found in ScriptModule constants,  but it is a non-constant submodule. Consider removing it.\n",
      "  \" but it is a non-constant {}. Consider removing it.\".format(name, hint))\n"
     ]
    },
    {
     "name": "stdout",
     "output_type": "stream",
     "text": [
      " Done.\n"
     ]
    }
   ],
   "source": [
    "import os\n",
    "from src.stromotion import StromotionCrossvideo"
   ]
  },
  {
   "cell_type": "code",
   "execution_count": null,
   "metadata": {},
   "outputs": [],
   "source": [
    "path_video = 'D:/2020-12-08-stromotion/staticvideo/tohaipeng/C0090.mp4'\n",
    "workspace = os.path.dirname(path_video)+'/'\n",
    "path_2dpose = 'D:/2020-12-08-stromotion/staticvideo/tohaipeng/C0090.npz'\n",
    "list_point=[22,30,40]\n",
    "print(workspace)"
   ]
  },
  {
   "cell_type": "code",
   "execution_count": 4,
   "metadata": {},
   "outputs": [
    {
     "name": "stdout",
     "output_type": "stream",
     "text": [
      " 54[]\n"
     ]
    }
   ],
   "source": [
    "S = StromotionCrossvideo(workspace,path_2dpose,list_point,path_video,extract=4,show_foot_track_line=True)"
   ]
  },
  {
   "cell_type": "code",
   "execution_count": 4,
   "metadata": {},
   "outputs": [
    {
     "name": "stdout",
     "output_type": "stream",
     "text": [
      "{0: (1714, 880), 1: (1680, 880), 2: (1646, 881), 3: (1608, 883), 4: (1571, 885), 5: (1533, 887), 6: (1440, 889), 7: (1415, 889), 8: (1386, 889), 9: (1350, 888), 10: (1328, 888), 11: (1301, 888), 12: (1270, 888), 13: (1236, 889), 14: (1198, 892), 15: (1160, 896), 16: (1122, 901), 17: (1080, 907), 18: (1040, 912), 19: (893, 902), 20: (878, 897), 21: (867, 893), 22: (859, 889), 23: (845, 883), 24: (826, 873), 25: (810, 865), 26: (791, 855), 27: (742, 830), 28: (710, 818), 29: (675, 809), 30: (657, 806), 31: (632, 805), 32: (615, 807), 33: (605, 808), 34: (579, 815), 35: (560, 823), 36: (541, 832), 37: (511, 849), 38: (493, 859), 39: (463, 876), 40: (438, 890), 41: (412, 902), 42: (389, 911), 43: (358, 920), 44: (331, 925), 45: (305, 928), 46: (274, 930), 47: (251, 930), 48: (225, 931), 49: (206, 931), 50: (187, 931), 51: (169, 931), 52: (150, 932), 53: (132, 933), 54: (132, 933)}\n"
     ]
    }
   ],
   "source": [
    "print(S.output['track'])"
   ]
  },
  {
   "cell_type": "code",
   "execution_count": null,
   "metadata": {},
   "outputs": [],
   "source": []
  }
 ],
 "metadata": {
  "kernelspec": {
   "display_name": "Python 3",
   "language": "python",
   "name": "python3"
  },
  "language_info": {
   "codemirror_mode": {
    "name": "ipython",
    "version": 3
   },
   "file_extension": ".py",
   "mimetype": "text/x-python",
   "name": "python",
   "nbconvert_exporter": "python",
   "pygments_lexer": "ipython3",
   "version": "3.7.3"
  }
 },
 "nbformat": 4,
 "nbformat_minor": 4
}
